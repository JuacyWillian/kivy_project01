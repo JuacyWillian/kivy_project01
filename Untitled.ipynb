{
 "cells": [
  {
   "cell_type": "code",
   "execution_count": 1,
   "metadata": {},
   "outputs": [],
   "source": [
    "from peewee import *\n",
    "from datetime import datetime, timedelta\n",
    "from playhouse.hybrid import hybrid_property\n",
    "\n",
    "from config import DATABASE"
   ]
  },
  {
   "cell_type": "code",
   "execution_count": 2,
   "metadata": {},
   "outputs": [],
   "source": [
    "db = SqliteDatabase(DATABASE)"
   ]
  },
  {
   "cell_type": "code",
   "execution_count": 3,
   "metadata": {},
   "outputs": [],
   "source": [
    "class BaseModel(Model):\n",
    "    class Meta:\n",
    "        database = db\n",
    "\n",
    "\n",
    "class Job(BaseModel):\n",
    "    name = CharField(unique=True)\n",
    "    description = TextField()\n",
    "\n",
    "    created_at = DateTimeField(default=datetime.now)\n",
    "    updated_at = DateTimeField(null=True)\n",
    "\n",
    "    status = IntegerField(choices=(\n",
    "        (0, 'started'), (1, 'paused'), (2, 'stopped')), default=0)\n",
    "\n",
    "    @hybrid_property\n",
    "    def active_workday(self):\n",
    "        return Workday.select().where(Workday.job == self, Workday.active == True).first()\n",
    "    \n",
    "    @hybrid_property\n",
    "    def total_time_worked(self):\n",
    "        workdays = Workday.select().where(Workday.job == self)\n",
    "        _durr = timedelta(seconds=0)\n",
    "        if workdays:\n",
    "            for w in workdays:\n",
    "                _durr += w.real_work_time\n",
    "        return _durr\n",
    "\n",
    "    def __repr__(self):\n",
    "        return '<Job(name=\"%s\")>' % (self.name)\n",
    "\n",
    "\n",
    "class Workday(BaseModel):\n",
    "    start = DateTimeField(default=datetime.now)\n",
    "    end = DateTimeField(null=True)\n",
    "    job = ForeignKeyField(Job, related_name='workdays')\n",
    "    active = BooleanField(default=False)\n",
    "\n",
    "    @hybrid_property\n",
    "    def work_time(self):\n",
    "        now = datetime.now()\n",
    "        return (self.end or now) - self.start\n",
    "        \n",
    "        # if self.end:\n",
    "        #     return self.end - self.start\n",
    "        # else:\n",
    "        #     return datetime.now() - self.start\n",
    "\n",
    "    @hybrid_property\n",
    "    def stopped_time(self):\n",
    "        stops = Stop.select().where(Stop.workday == self)\n",
    "        _durr = timedelta(seconds=0)\n",
    "        if stops:\n",
    "            for s in stops:\n",
    "                _durr += s.duraction\n",
    "        return _durr\n",
    "\n",
    "    @hybrid_property\n",
    "    def real_work_time(self):\n",
    "        return self.work_time - self.stopped_time\n",
    "\n",
    "    @hybrid_property\n",
    "    def active_stop(self):\n",
    "        return Stop.select().where(Stop.workday == self, Stop.active == True).first()\n",
    "\n",
    "    def __repr__(self):\n",
    "        return '<Workday(start=%s, end=%s)>' % (self.start, self.end)\n",
    "\n",
    "\n",
    "class Stop(BaseModel):\n",
    "    start = DateTimeField(default=datetime.now)\n",
    "    end = DateTimeField(null=True)\n",
    "    workday = ForeignKeyField(Workday, related_name='stops')\n",
    "    active = BooleanField(default=False)\n",
    "\n",
    "    @hybrid_property\n",
    "    def duraction(self):\n",
    "        if self.end:\n",
    "            return self.end - self.start\n",
    "        else:\n",
    "            return datetime.now() - self.start\n",
    "\n",
    "    def __repr__(self):\n",
    "        return '<Stop(start=%s, end=%s)>' % (self.start, self.end)\n"
   ]
  },
  {
   "cell_type": "code",
   "execution_count": 4,
   "metadata": {},
   "outputs": [],
   "source": [
    "db.connect()\n",
    "db.create_tables([Job, Workday, Stop], safe=True)"
   ]
  },
  {
   "cell_type": "code",
   "execution_count": 18,
   "metadata": {},
   "outputs": [
    {
     "data": {
      "text/plain": [
       "1"
      ]
     },
     "execution_count": 18,
     "metadata": {},
     "output_type": "execute_result"
    }
   ],
   "source": [
    "# job = Job(name='My First Job', description='My first job description')\n",
    "# job.save()\n",
    "\n",
    "# wd = Workday(job=job)\n",
    "# wd.save()"
   ]
  },
  {
   "cell_type": "code",
   "execution_count": 5,
   "metadata": {},
   "outputs": [
    {
     "data": {
      "text/plain": [
       "[<Job(name=\"My First Job\")>]"
      ]
     },
     "execution_count": 5,
     "metadata": {},
     "output_type": "execute_result"
    }
   ],
   "source": [
    "[job for job in Job.select()]"
   ]
  },
  {
   "cell_type": "code",
   "execution_count": 11,
   "metadata": {},
   "outputs": [
    {
     "name": "stdout",
     "output_type": "stream",
     "text": [
      "0:18:59.024149\n"
     ]
    }
   ],
   "source": [
    "job = Job.select()[0]\n",
    "print(job.total_time_worked)\n",
    "\n",
    "# wd = Workday.select()[0-1]\n",
    "# stop = Stop(workday=wd)\n",
    "\n",
    "# stop = Stop.select().where(Stop.workday==wd).first()\n",
    "\n",
    "# stop.end = datetime.now()\n",
    "# stop.save()\n",
    "# \n",
    "# from time import sleep\n",
    "# sleep(5)\n",
    "# wd.end = datetime.now()\n",
    "# wd.save()\n",
    "\n",
    "# print(wd.job.name)\n",
    "# print(wd.start)\n",
    "# print(wd.end)\n",
    "# print(wd.work_time)\n",
    "# print(wd.stopped_time)\n",
    "# print(wd.real_work_time)\n",
    "# print(wd.active)\n",
    "# print(stop.duraction)"
   ]
  },
  {
   "cell_type": "code",
   "execution_count": 22,
   "metadata": {},
   "outputs": [
    {
     "name": "stdout",
     "output_type": "stream",
     "text": [
      "work time:  0:18:41.648154\nstopped time:  0:00:40.311305\nreal work time:  0:18:01.336849\n"
     ]
    }
   ],
   "source": [
    "\n",
    "wd = job.workdays[0]\n",
    "print('work time: ', wd.work_time)\n",
    "print('stopped time: ', wd.stopped_time)\n",
    "print('real work time: ', wd.real_work_time)"
   ]
  },
  {
   "cell_type": "code",
   "execution_count": 39,
   "metadata": {},
   "outputs": [],
   "source": []
  },
  {
   "cell_type": "code",
   "execution_count": null,
   "metadata": {},
   "outputs": [],
   "source": []
  }
 ],
 "metadata": {
  "kernelspec": {
   "display_name": "Python 3",
   "language": "python",
   "name": "python3"
  },
  "language_info": {
   "codemirror_mode": {
    "name": "ipython",
    "version": 3
   },
   "file_extension": ".py",
   "mimetype": "text/x-python",
   "name": "python",
   "nbconvert_exporter": "python",
   "pygments_lexer": "ipython3",
   "version": "3.6.2"
  }
 },
 "nbformat": 4,
 "nbformat_minor": 2
}
